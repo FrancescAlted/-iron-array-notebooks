{
 "cells": [
  {
   "cell_type": "markdown",
   "metadata": {
    "pycharm": {
     "name": "#%% md\n"
    }
   },
   "source": [
    "# Reductions in memory\n",
    "\n",
    "In this benchmark we will compare ironArray's performance with Zarr, HDF5, Numpy and TileDB. We will work with the data used in the [Reductions tutorial](../tutorials/05.Reductions.html) with the default chunk shapes for every library and compute the same reduction for every case with in memory operands.  It is important to stress that we are using defaults for every library, which are typically fine tuned for general performance; this is a pretty fair way to compare them without spending long time optimizing for every one.\n",
    "\n",
    "\n",
    "Let's go:"
   ]
  },
  {
   "cell_type": "code",
   "execution_count": 1,
   "metadata": {
    "pycharm": {
     "name": "#%%\n"
    }
   },
   "outputs": [],
   "source": [
    "%load_ext memprofiler\n",
    "\n",
    "import numpy as np\n",
    "import iarray as ia\n",
    "import os\n",
    "import zarr\n",
    "import dask.array as da\n",
    "import h5py\n",
    "import hdf5plugin as h5plugin\n",
    "from numcodecs import Blosc\n",
    "import tiledb"
   ]
  },
  {
   "cell_type": "code",
   "execution_count": 2,
   "metadata": {
    "pycharm": {
     "name": "#%%\n"
    }
   },
   "outputs": [
    {
     "name": "stdout",
     "output_type": "stream",
     "text": [
      "672M\t../tutorials/precip-3m.iarr\r\n"
     ]
    }
   ],
   "source": [
    "!du -sh ../tutorials/precip-3m.iarr"
   ]
  },
  {
   "cell_type": "markdown",
   "metadata": {
    "pycharm": {
     "name": "#%% md\n"
    }
   },
   "source": [
    "### ironArray"
   ]
  },
  {
   "cell_type": "code",
   "execution_count": 3,
   "metadata": {
    "pycharm": {
     "name": "#%%\n"
    }
   },
   "outputs": [
    {
     "name": "stdout",
     "output_type": "stream",
     "text": [
      "(3, 720, 721, 1440)\n",
      "cratio:  15.43\n",
      "type   : IArray\n",
      "shape  : (3, 720, 721, 1440)\n",
      "chunks : (1, 128, 128, 256)\n",
      "blocks : (1, 16, 32, 64)\n",
      "cratio : 15.43\n",
      "\n",
      "CPU times: user 16.9 ms, sys: 475 ms, total: 492 ms\n",
      "Wall time: 785 ms\n"
     ]
    }
   ],
   "source": [
    "%%time\n",
    "\n",
    "ia_precip = ia.load(\"../tutorials/precip-3m.iarr\")\n",
    "print(ia_precip.shape)\n",
    "print(\"cratio: \", round(ia_precip.cratio, 2))\n",
    "chunks = ia_precip.chunks\n",
    "print(ia_precip.info)"
   ]
  },
  {
   "cell_type": "code",
   "execution_count": 4,
   "metadata": {
    "pycharm": {
     "name": "#%%\n"
    },
    "scrolled": false
   },
   "outputs": [
    {
     "name": "stdout",
     "output_type": "stream",
     "text": [
      "memprofiler: used 3.77 MiB RAM (peak of 8.60 MiB) in 18.0556 s, total RAM usage 822.28 MiB\n"
     ]
    }
   ],
   "source": [
    "%%mprof_run 1.iarray::std_memory\n",
    "ia_reduc = ia.std(ia_precip, axis=(3, 0, 2)).data"
   ]
  },
  {
   "cell_type": "markdown",
   "metadata": {
    "pycharm": {
     "name": "#%% md\n"
    }
   },
   "source": [
    "### NumPy\n",
    "\n",
    "Let's do the same computation with NumPy. First we will get the NumPy array from the ironArray one:"
   ]
  },
  {
   "cell_type": "code",
   "execution_count": 5,
   "metadata": {
    "pycharm": {
     "name": "#%%\n"
    }
   },
   "outputs": [
    {
     "name": "stdout",
     "output_type": "stream",
     "text": [
      "CPU times: user 8.1 s, sys: 3.66 s, total: 11.8 s\n",
      "Wall time: 8.41 s\n"
     ]
    }
   ],
   "source": [
    "%%time\n",
    "precip = ia_precip.data"
   ]
  },
  {
   "cell_type": "markdown",
   "metadata": {
    "pycharm": {
     "name": "#%% md\n"
    }
   },
   "source": [
    "and now the actual reduction:"
   ]
  },
  {
   "cell_type": "code",
   "execution_count": 6,
   "metadata": {
    "pycharm": {
     "name": "#%%\n"
    },
    "scrolled": true
   },
   "outputs": [
    {
     "name": "stdout",
     "output_type": "stream",
     "text": [
      "memprofiler: used -7246.96 MiB RAM (peak of 1540.45 MiB) in 49.5041 s, total RAM usage 36.92 MiB\n"
     ]
    }
   ],
   "source": [
    "%%mprof_run 5.numpy::std_memory\n",
    "np_reduc = np.std(precip, axis=(3, 0, 2))"
   ]
  },
  {
   "cell_type": "code",
   "execution_count": 7,
   "metadata": {
    "pycharm": {
     "name": "#%%\n"
    }
   },
   "outputs": [],
   "source": [
    "np.testing.assert_allclose(ia_reduc, np_reduc, atol=1e-5, rtol=1e-5)\n",
    "del precip\n",
    "del np_reduc"
   ]
  },
  {
   "cell_type": "markdown",
   "metadata": {
    "pycharm": {
     "name": "#%% md\n"
    }
   },
   "source": [
    "### Zarr"
   ]
  },
  {
   "cell_type": "code",
   "execution_count": 8,
   "metadata": {
    "pycharm": {
     "name": "#%%\n"
    }
   },
   "outputs": [
    {
     "name": "stdout",
     "output_type": "stream",
     "text": [
      "Type               : zarr.core.Array\n",
      "Data type          : float32\n",
      "Shape              : (3, 720, 721, 1440)\n",
      "Chunk shape        : (1, 90, 91, 180)\n",
      "Order              : C\n",
      "Read-only          : False\n",
      "Compressor         : Blosc(cname='lz4', clevel=5, shuffle=SHUFFLE, blocksize=0)\n",
      "Store type         : builtins.dict\n",
      "No. bytes          : 8970393600 (8.4G)\n",
      "No. bytes stored   : 1117920644 (1.0G)\n",
      "Storage ratio      : 8.0\n",
      "Chunks initialized : 1536/1536\n",
      "\n"
     ]
    }
   ],
   "source": [
    "precip_zarr = zarr.array(ia_precip.data)\n",
    "print(precip_zarr.info)\n",
    "precip_zdask = da.from_zarr(precip_zarr)"
   ]
  },
  {
   "cell_type": "code",
   "execution_count": 9,
   "metadata": {
    "pycharm": {
     "name": "#%%\n"
    }
   },
   "outputs": [
    {
     "name": "stdout",
     "output_type": "stream",
     "text": [
      "memprofiler: used 126.86 MiB RAM (peak of 8117.93 MiB) in 7.0446 s, total RAM usage 1220.31 MiB\n"
     ]
    }
   ],
   "source": [
    "%%mprof_run 2.zarr::std_memory\n",
    "zdask_reduc = da.std(precip_zdask, axis=(3, 0, 2))\n",
    "zarr_reduc = zarr.create(shape=ia_reduc.shape, dtype=ia_reduc.dtype)\n",
    "da.to_zarr(zdask_reduc, zarr_reduc)"
   ]
  },
  {
   "cell_type": "code",
   "execution_count": 10,
   "metadata": {
    "pycharm": {
     "name": "#%%\n"
    }
   },
   "outputs": [
    {
     "ename": "AssertionError",
     "evalue": "\nArrays are not almost equal to 7 decimals\n\nMismatched elements: 713 / 720 (99%)\nMax absolute difference: 5.718088e-06\nMax relative difference: 0.0162207\n x: array([0.0003691, 0.0003663, 0.0003644, 0.0003662, 0.0003712, 0.0003774,\n       0.0003794, 0.0003722, 0.0003795, 0.0003822, 0.0003826, 0.0003876,\n       0.0003919, 0.0003969, 0.000399 , 0.000399 , 0.0004011, 0.0004044,...\n y: array([0.0003663, 0.0003637, 0.0003621, 0.0003642, 0.0003688, 0.0003746,\n       0.0003761, 0.0003693, 0.000376 , 0.0003786, 0.0003791, 0.0003839,\n       0.0003882, 0.0003929, 0.0003949, 0.0003949, 0.0003969, 0.0004001,...",
     "output_type": "error",
     "traceback": [
      "\u001B[0;31m---------------------------------------------------------------------------\u001B[0m",
      "\u001B[0;31mAssertionError\u001B[0m                            Traceback (most recent call last)",
      "\u001B[0;32m/var/folders/tj/q2qz82qj46qf7mwzd_jqkxnc0000gn/T/ipykernel_15235/1632056823.py\u001B[0m in \u001B[0;36m<module>\u001B[0;34m\u001B[0m\n\u001B[0;32m----> 1\u001B[0;31m \u001B[0mnp\u001B[0m\u001B[0;34m.\u001B[0m\u001B[0mtesting\u001B[0m\u001B[0;34m.\u001B[0m\u001B[0massert_almost_equal\u001B[0m\u001B[0;34m(\u001B[0m\u001B[0mzarr_reduc\u001B[0m\u001B[0;34m,\u001B[0m \u001B[0mia_reduc\u001B[0m\u001B[0;34m)\u001B[0m\u001B[0;34m\u001B[0m\u001B[0;34m\u001B[0m\u001B[0m\n\u001B[0m\u001B[1;32m      2\u001B[0m \u001B[0;32mdel\u001B[0m \u001B[0mprecip_zdask\u001B[0m\u001B[0;34m\u001B[0m\u001B[0;34m\u001B[0m\u001B[0m\n\u001B[1;32m      3\u001B[0m \u001B[0;32mdel\u001B[0m \u001B[0mzdask_reduc\u001B[0m\u001B[0;34m\u001B[0m\u001B[0;34m\u001B[0m\u001B[0m\n\u001B[1;32m      4\u001B[0m \u001B[0;32mdel\u001B[0m \u001B[0mzarr_reduc\u001B[0m\u001B[0;34m\u001B[0m\u001B[0;34m\u001B[0m\u001B[0m\n",
      "    \u001B[0;31m[... skipping hidden 2 frame]\u001B[0m\n",
      "\u001B[0;32m~/miniconda3/envs/iron-array/lib/python3.9/site-packages/numpy/testing/_private/utils.py\u001B[0m in \u001B[0;36massert_array_compare\u001B[0;34m(comparison, x, y, err_msg, verbose, header, precision, equal_nan, equal_inf)\u001B[0m\n\u001B[1;32m    842\u001B[0m                                 \u001B[0mverbose\u001B[0m\u001B[0;34m=\u001B[0m\u001B[0mverbose\u001B[0m\u001B[0;34m,\u001B[0m \u001B[0mheader\u001B[0m\u001B[0;34m=\u001B[0m\u001B[0mheader\u001B[0m\u001B[0;34m,\u001B[0m\u001B[0;34m\u001B[0m\u001B[0;34m\u001B[0m\u001B[0m\n\u001B[1;32m    843\u001B[0m                                 names=('x', 'y'), precision=precision)\n\u001B[0;32m--> 844\u001B[0;31m             \u001B[0;32mraise\u001B[0m \u001B[0mAssertionError\u001B[0m\u001B[0;34m(\u001B[0m\u001B[0mmsg\u001B[0m\u001B[0;34m)\u001B[0m\u001B[0;34m\u001B[0m\u001B[0;34m\u001B[0m\u001B[0m\n\u001B[0m\u001B[1;32m    845\u001B[0m     \u001B[0;32mexcept\u001B[0m \u001B[0mValueError\u001B[0m\u001B[0;34m:\u001B[0m\u001B[0;34m\u001B[0m\u001B[0;34m\u001B[0m\u001B[0m\n\u001B[1;32m    846\u001B[0m         \u001B[0;32mimport\u001B[0m \u001B[0mtraceback\u001B[0m\u001B[0;34m\u001B[0m\u001B[0;34m\u001B[0m\u001B[0m\n",
      "\u001B[0;31mAssertionError\u001B[0m: \nArrays are not almost equal to 7 decimals\n\nMismatched elements: 713 / 720 (99%)\nMax absolute difference: 5.718088e-06\nMax relative difference: 0.0162207\n x: array([0.0003691, 0.0003663, 0.0003644, 0.0003662, 0.0003712, 0.0003774,\n       0.0003794, 0.0003722, 0.0003795, 0.0003822, 0.0003826, 0.0003876,\n       0.0003919, 0.0003969, 0.000399 , 0.000399 , 0.0004011, 0.0004044,...\n y: array([0.0003663, 0.0003637, 0.0003621, 0.0003642, 0.0003688, 0.0003746,\n       0.0003761, 0.0003693, 0.000376 , 0.0003786, 0.0003791, 0.0003839,\n       0.0003882, 0.0003929, 0.0003949, 0.0003949, 0.0003969, 0.0004001,..."
     ]
    }
   ],
   "source": [
    "np.testing.assert_almost_equal(zarr_reduc, ia_reduc)\n",
    "del precip_zdask\n",
    "del zdask_reduc\n",
    "del zarr_reduc"
   ]
  },
  {
   "cell_type": "markdown",
   "metadata": {
    "pycharm": {
     "name": "#%% md\n"
    }
   },
   "source": [
    "### HDF5"
   ]
  },
  {
   "cell_type": "code",
   "execution_count": null,
   "metadata": {
    "pycharm": {
     "name": "#%%\n"
    }
   },
   "outputs": [],
   "source": [
    "h5_urlpath = \"precip-3m.hdf5\"\n",
    "\n",
    "if not os.path.exists(h5_urlpath):\n",
    "    with h5py.File(h5_urlpath, \"w\") as f:\n",
    "        h5_precip = f.create_dataset(\"h5_precip\", ia_precip.shape, dtype=ia_precip.dtype, **h5plugin.Blosc())\n",
    "        ia_precip.copyto(h5_precip)\n",
    "\n",
    "\n",
    "h5_file = h5py.File(h5_urlpath, \"r\", driver='core', backing_store=False)\n",
    "precip_h5 = h5_file['h5_precip']\n",
    "\n",
    "\n",
    "precip_h5dask = da.from_array(precip_h5)\n",
    "\n",
    "h5_reduc_urlpath = \"reduc.hdf5\"\n",
    "ia.remove_urlpath(h5_reduc_urlpath)"
   ]
  },
  {
   "cell_type": "code",
   "execution_count": null,
   "metadata": {
    "pycharm": {
     "name": "#%%\n"
    }
   },
   "outputs": [],
   "source": [
    "%%mprof_run 3.hdf5::std_memory\n",
    "\n",
    "h5dask_reduc = da.std(precip_h5dask, axis=(3, 0, 2))\n",
    "\n",
    "f = h5py.File(h5_reduc_urlpath, \"w\", driver='core', backing_store=False)\n",
    "h5_reduc = f.create_dataset(name=h5_reduc_urlpath, shape=ia_reduc.shape, dtype=ia_reduc.dtype, **h5plugin.Blosc())\n",
    "da.to_hdf5(h5_reduc_urlpath, '/x', h5dask_reduc)"
   ]
  },
  {
   "cell_type": "code",
   "execution_count": null,
   "metadata": {
    "pycharm": {
     "name": "#%%\n"
    }
   },
   "outputs": [],
   "source": [
    "del h5dask_reduc\n",
    "del precip_h5dask\n",
    "del h5_reduc"
   ]
  },
  {
   "cell_type": "markdown",
   "metadata": {
    "pycharm": {
     "name": "#%% md\n"
    }
   },
   "source": [
    "### TileDB"
   ]
  },
  {
   "cell_type": "code",
   "execution_count": null,
   "metadata": {
    "pycharm": {
     "name": "#%%\n"
    }
   },
   "outputs": [],
   "source": [
    "# TileDB does not come with defaults for chunk shape (tiles), so using ironArray's one\n",
    "shape = ia_precip.shape\n",
    "adom = tiledb.Domain(\n",
    "        tiledb.Dim(name=\"rows\", domain=(0, shape[0] - 1), dtype=np.int32, tile=chunks[0]),\n",
    "        tiledb.Dim(name=\"cols\", domain=(0, shape[1] - 1), dtype=np.int32, tile=chunks[1]),\n",
    "        tiledb.Dim(name=\"else\", domain=(0, shape[2] - 1), dtype=np.int32, tile=chunks[2]),\n",
    "        tiledb.Dim(name=\"else2\", domain=(0, shape[3] - 1), dtype=np.int32, tile=chunks[3]),\n",
    "    )\n",
    "\n",
    "filters = tiledb.FilterList([tiledb.ByteShuffleFilter(), tiledb.LZ4Filter(5)])\n",
    "aschema = tiledb.ArraySchema(\n",
    "    domain=adom,  sparse=False, attrs=[tiledb.Attr(name=\"a\", dtype=np.float32, filters=filters)]\n",
    ")\n",
    "\n",
    "# Create the (empty) array on disk.\n",
    "tiledb_name = \"mem://precip-3m-optimal.tiledb\"\n",
    "if not os.path.exists(tiledb_name):\n",
    "    tiledb.DenseArray.create(tiledb_name, aschema)\n",
    "    with tiledb.DenseArray(tiledb_name, mode=\"w\") as A_opt:\n",
    "        A_opt[:] = ia_precip.data\n",
    "\n",
    "dask_tiledb = da.from_tiledb(tiledb_name, attribute='a')"
   ]
  },
  {
   "cell_type": "code",
   "execution_count": null,
   "metadata": {
    "pycharm": {
     "name": "#%%\n"
    },
    "scrolled": true
   },
   "outputs": [],
   "source": [
    "%%mprof_run 4.tiledb::std_memory\n",
    "res_dask_opt = da.std(dask_tiledb, axis=(3, 0, 2))\n",
    "res_dask_opt.to_tiledb(\"mem://res_tiledb\")"
   ]
  },
  {
   "cell_type": "code",
   "execution_count": null,
   "metadata": {
    "pycharm": {
     "name": "#%%\n"
    }
   },
   "outputs": [],
   "source": [
    "del res_dask_opt\n",
    "del dask_tiledb\n",
    "tiledb.remove(tiledb_name)\n",
    "tiledb.remove(\"mem://res_tiledb\")"
   ]
  },
  {
   "cell_type": "markdown",
   "metadata": {
    "pycharm": {
     "name": "#%% md\n"
    }
   },
   "source": [
    "### Results\n",
    "\n",
    "Finally, we will do a plot of the memory and time consumption with each different library."
   ]
  },
  {
   "cell_type": "code",
   "execution_count": null,
   "metadata": {
    "pycharm": {
     "name": "#%%\n"
    }
   },
   "outputs": [],
   "source": [
    "%mprof_plot .*::std"
   ]
  },
  {
   "cell_type": "markdown",
   "metadata": {
    "pycharm": {
     "name": "#%% md\n"
    }
   },
   "source": [
    "So in this case, Zarr, HDF5 and TileDB consume lots of memory, whereas ironArray usage is really meager. NumPy consumes less memory (actually, no memory is consumed) than ironArray. And when it comes to speed ironArray performance is the best in its class, only surpassed by NumPy (but not by a large extent)."
   ]
  }
 ],
 "metadata": {
  "kernelspec": {
   "display_name": "Python 3 (ipykernel)",
   "language": "python",
   "name": "python3"
  },
  "language_info": {
   "codemirror_mode": {
    "name": "ipython",
    "version": 3
   },
   "file_extension": ".py",
   "mimetype": "text/x-python",
   "name": "python",
   "nbconvert_exporter": "python",
   "pygments_lexer": "ipython3",
   "version": "3.9.5"
  }
 },
 "nbformat": 4,
 "nbformat_minor": 1
}