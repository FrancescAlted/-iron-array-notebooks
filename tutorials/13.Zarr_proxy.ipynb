{
 "cells": [
  {
   "cell_type": "markdown",
   "metadata": {
    "collapsed": true,
    "pycharm": {
     "name": "#%% md\n"
    }
   },
   "source": [
    "# Accessing remote Zarr arrays\n",
    "\n",
    "In ironArray it is possible to create a proxy of a Zarr array, by just specifying the path to it (either locally or remotely stored). The data will only be in the actual Zarr container and will be retrieved only when needed.\n",
    "\n",
    "To see how this works, we will create an on disk ironArray array from the whole Zarr array already used in the [Reductions tutorial](05.Reductions.html), we will then open and slice it to compute some reductions and get an ironArray array from it. Let's go!"
   ]
  },
  {
   "cell_type": "markdown",
   "metadata": {
    "pycharm": {
     "name": "#%% md\n"
    }
   },
   "source": [
    "## The Zarr proxy array\n",
    "\n",
    "We will first create our ironArray array from a Zarr array stored in the cloud by giving its path. Because it is stored in the cloud, we will have to put at the beginning of the path `s3://`:\n"
   ]
  },
  {
   "cell_type": "code",
   "execution_count": 1,
   "metadata": {
    "pycharm": {
     "name": "#%%\n"
    }
   },
   "outputs": [
    {
     "data": {
      "text/html": [
       "<table class=\"iarray-info\"><tbody><tr><th style=\"text-align: left\">type</th><td style=\"text-align: left\">IArray</td></tr><tr><th style=\"text-align: left\">shape</th><td style=\"text-align: left\">(744, 721, 1440)</td></tr><tr><th style=\"text-align: left\">chunks</th><td style=\"text-align: left\">(372, 150, 150)</td></tr><tr><th style=\"text-align: left\">blocks</th><td style=\"text-align: left\">(372, 150, 150)</td></tr><tr><th style=\"text-align: left\">cratio</th><td style=\"text-align: left\">17.60</td></tr></tbody></table>"
      ],
      "text/plain": [
       "type   : IArray\n",
       "shape  : (744, 721, 1440)\n",
       "chunks : (372, 150, 150)\n",
       "blocks : (372, 150, 150)\n",
       "cratio : 17.60"
      ]
     },
     "execution_count": 1,
     "metadata": {},
     "output_type": "execute_result"
    }
   ],
   "source": [
    "import iarray as ia\n",
    "\n",
    "year = 1987\n",
    "month = 10\n",
    "datestring = \"s3://era5-pds/zarr/{year}/{month:02d}/data/\".format(year=year, month=month)\n",
    "zarr_urlpath = datestring + \"precipitation_amount_1hour_Accumulation.zarr/precipitation_amount_1hour_Accumulation\"\n",
    "precip = ia.zarr_proxy(zarr_urlpath, urlpath=\"precip.iarr\", mode=\"w\")\n",
    "precip.info"
   ]
  },
  {
   "cell_type": "markdown",
   "metadata": {
    "pycharm": {
     "name": "#%% md\n"
    }
   },
   "source": [
    "As can be seen, we can pass to the constructor different Config properties such as `urlpath` or `mode`.\n",
    "\n",
    " Note that in the info the compression ratio is negative, that is due to the fact that Zarr does not give the compressed size from a remotely stored array. The shape, chunks and data type are retrieved from the original array.\n",
    "\n",
    "We can see that this proxy has no data on it since the space that takes from the filesystem is:"
   ]
  },
  {
   "cell_type": "code",
   "execution_count": 2,
   "metadata": {
    "pycharm": {
     "name": "#%%\n"
    }
   },
   "outputs": [
    {
     "name": "stdout",
     "output_type": "stream",
     "text": [
      "4,0K\tprecip.iarr\r\n"
     ]
    }
   ],
   "source": [
    "! du -sh \"precip.iarr\""
   ]
  },
  {
   "cell_type": "markdown",
   "metadata": {},
   "source": [
    "So although with this array we have access to a pretty large amount of data, our array only takes around 4 KB.\n",
    "\n",
    "This opens the door to use external Zarr arrays as if they were native ironArray arrays, so all the computing machinery in ironArray will work seamlessly with Zarr proxies.\n",
    "\n",
    "Let's see different operations that can be performed with ironArray on top of Zarr proxies. For example, here it is how we can open and get an slice of a Zarr proxy:"
   ]
  },
  {
   "cell_type": "code",
   "execution_count": 3,
   "metadata": {},
   "outputs": [
    {
     "name": "stdout",
     "output_type": "stream",
     "text": [
      "<IArray (744, 721, 1440) np.float32>\n",
      "<IArray (300, 400, 500) np.float32>\n"
     ]
    }
   ],
   "source": [
    "precip2 = ia.open(\"precip.iarr\")\n",
    "print(precip2)\n",
    "precip_slice = precip2[:300, :400, :500]\n",
    "print(precip_slice)"
   ]
  },
  {
   "cell_type": "markdown",
   "metadata": {
    "pycharm": {
     "name": "#%% md\n"
    }
   },
   "source": [
    "In the next sections we will see some more different operations.\n",
    "\n",
    "### Reductions\n",
    "\n",
    "Reductions can operate on top of Zarr proxies or slices of them:"
   ]
  },
  {
   "cell_type": "code",
   "execution_count": 4,
   "metadata": {
    "pycharm": {
     "name": "#%%\n"
    }
   },
   "outputs": [
    {
     "data": {
      "text/plain": [
       "6429.312"
      ]
     },
     "execution_count": 4,
     "metadata": {},
     "output_type": "execute_result"
    }
   ],
   "source": [
    "ia.sum(precip_slice)[()]"
   ]
  },
  {
   "cell_type": "code",
   "execution_count": 5,
   "metadata": {
    "pycharm": {
     "name": "#%%\n"
    }
   },
   "outputs": [
    {
     "data": {
      "text/plain": [
       "0.0"
      ]
     },
     "execution_count": 5,
     "metadata": {},
     "output_type": "execute_result"
    }
   ],
   "source": [
    "ia.prod(precip_slice)[()]"
   ]
  },
  {
   "cell_type": "markdown",
   "metadata": {},
   "source": [
    "or just to some axis:"
   ]
  },
  {
   "cell_type": "code",
   "execution_count": 6,
   "metadata": {
    "pycharm": {
     "name": "#%%\n"
    }
   },
   "outputs": [
    {
     "data": {
      "text/plain": [
       "<IArray (400,) np.float32>"
      ]
     },
     "execution_count": 6,
     "metadata": {},
     "output_type": "execute_result"
    }
   ],
   "source": [
    "red_sum = ia.sum(precip_slice, axis=(0, 2))\n",
    "red_sum"
   ]
  },
  {
   "cell_type": "code",
   "execution_count": 7,
   "metadata": {
    "pycharm": {
     "name": "#%%\n"
    }
   },
   "outputs": [
    {
     "data": {
      "text/plain": [
       "<IArray (300,) np.float32>"
      ]
     },
     "execution_count": 7,
     "metadata": {},
     "output_type": "execute_result"
    }
   ],
   "source": [
    "red_prod = ia.prod(precip_slice, axis=(1, 2))\n",
    "red_prod"
   ]
  },
  {
   "cell_type": "markdown",
   "metadata": {},
   "source": [
    "### Convert proxy into an ironArray array\n",
    "\n",
    "If you are interested in working with the data as a normal ironArray array without overwriting the Zarr array, you can always make a copy of a proxy and that will create a new ironArray array with all the data on it. Let's do it only for the slice:"
   ]
  },
  {
   "cell_type": "code",
   "execution_count": 8,
   "metadata": {
    "pycharm": {
     "name": "#%%\n"
    }
   },
   "outputs": [
    {
     "name": "stdout",
     "output_type": "stream",
     "text": [
      "26M\tcopy.iarr\r\n"
     ]
    }
   ],
   "source": [
    "iarr = precip_slice.copy(urlpath=\"copy.iarr\", mode=\"w\")\n",
    "\n",
    "! du -sh \"copy.iarr\""
   ]
  },
  {
   "cell_type": "markdown",
   "metadata": {},
   "source": [
    "As can be seen, this takes a lot more data than the proxy.\n"
   ]
  },
  {
   "cell_type": "markdown",
   "metadata": {},
   "source": [
    "## Conclusions\n",
    "\n",
    "With the Zarr proxy functionality you can access either local or remote Zarr arrays as if they were native ironArray arrays, allowing all the machinery of ironArray on top of them.\n",
    "\n",
    " The only limitation is that writing is not supported for Zarr proxies. This could be fixed in a future version.\n"
   ]
  }
 ],
 "metadata": {
  "kernelspec": {
   "display_name": "Python 3 (ipykernel)",
   "language": "python",
   "name": "python3"
  },
  "language_info": {
   "codemirror_mode": {
    "name": "ipython",
    "version": 3
   },
   "file_extension": ".py",
   "mimetype": "text/x-python",
   "name": "python",
   "nbconvert_exporter": "python",
   "pygments_lexer": "ipython3",
   "version": "3.9.12"
  }
 },
 "nbformat": 4,
 "nbformat_minor": 1
}
